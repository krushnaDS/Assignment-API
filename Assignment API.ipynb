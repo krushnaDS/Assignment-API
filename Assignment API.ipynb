{
 "cells": [
  {
   "cell_type": "code",
   "execution_count": 1,
   "id": "5b3d1d72-0f14-4b87-9cd0-a9f391aac806",
   "metadata": {},
   "outputs": [
    {
     "data": {
      "text/plain": [
       "'\\nQ1. What is an API? Give an example, where an API is used in real life.\\n\\nAPI : API is an abbreviation for Application Programming Interface which is a collection of \\n      communication protocols and subroutines used by various programs to communicate between them.\\n      \\neg. The \"Pay with PayPal\" functionality, like checking in with a social networking site, is done via APIs \\n    to ensure that the end application can only do what it needs to accomplish without being exposed to sensitive\\n    data or gaining access to unwelcome privileges.\\n    \\n'"
      ]
     },
     "execution_count": 1,
     "metadata": {},
     "output_type": "execute_result"
    }
   ],
   "source": [
    "'''\n",
    "Q1. What is an API? Give an example, where an API is used in real life.\n",
    "\n",
    "API : API is an abbreviation for Application Programming Interface which is a collection of \n",
    "      communication protocols and subroutines used by various programs to communicate between them.\n",
    "      \n",
    "eg. The \"Pay with PayPal\" functionality, like checking in with a social networking site, is done via APIs \n",
    "    to ensure that the end application can only do what it needs to accomplish without being exposed to sensitive\n",
    "    data or gaining access to unwelcome privileges.\n",
    "    \n",
    "'''"
   ]
  },
  {
   "cell_type": "code",
   "execution_count": 2,
   "id": "3a05e01f-5f14-41b4-9e24-1411b95dc021",
   "metadata": {},
   "outputs": [
    {
     "data": {
      "text/plain": [
       "'Q2. Give advantages and disadvantages of using API.\\n\\nAdvantages :\\n1. Efficiency - Quicker and reliable results\\n2. Flexible delivery of services\\n3. Integration\\n4. Automation\\n\\nDisadvantages :\\n1. Cost - Developing and implementing API is costly and requires high maintenance.\\n\\n2. Security issues.\\n\\n'"
      ]
     },
     "execution_count": 2,
     "metadata": {},
     "output_type": "execute_result"
    }
   ],
   "source": [
    "'''Q2. Give advantages and disadvantages of using API.\n",
    "\n",
    "Advantages :\n",
    "1. Efficiency - Quicker and reliable results\n",
    "2. Flexible delivery of services\n",
    "3. Integration\n",
    "4. Automation\n",
    "\n",
    "Disadvantages :\n",
    "1. Cost - Developing and implementing API is costly and requires high maintenance.\n",
    "\n",
    "2. Security issues.\n",
    "\n",
    "'''"
   ]
  },
  {
   "cell_type": "code",
   "execution_count": 5,
   "id": "46cc5726-c113-4386-ae3d-fe8ff4ded743",
   "metadata": {},
   "outputs": [
    {
     "data": {
      "text/plain": [
       "'\\nQ3. What is a Web API? Differentiate between API and Web API.\\n\\nWeb API - A Web API is an application programming interface for the Web.\\n\\n\\nAPI - 1. All APIs are not web services.\\n      2. Responses are formatted using Web API’s MediaTypeFormatter into XML, JSON, or any other given format.\\n      3. API has a light-weight architecture.\\n      4. It provides support for the HTTP/s protocol: URL Request/Response Headers, etc.\\nWeb api - 1. All web API are APIs.\\n          2. It supports XML.\\n          3. You need a SOAP protocol to send or receive and data over the network. Therefore it does not have light-weight architecture.\\n          4. It provides supports only for the HTTP protocol.\\n'"
      ]
     },
     "execution_count": 5,
     "metadata": {},
     "output_type": "execute_result"
    }
   ],
   "source": [
    "'''\n",
    "Q3. What is a Web API? Differentiate between API and Web API.\n",
    "\n",
    "Web API - A Web API is an application programming interface for the Web.\n",
    "\n",
    "\n",
    "API - 1. All APIs are not web services.\n",
    "      2. Responses are formatted using Web API’s MediaTypeFormatter into XML, JSON, or any other given format.\n",
    "      3. API has a light-weight architecture.\n",
    "      4. It provides support for the HTTP/s protocol: URL Request/Response Headers, etc.\n",
    "Web api - 1. All web API are APIs.\n",
    "          2. It supports XML.\n",
    "          3. You need a SOAP protocol to send or receive and data over the network. Therefore it does not have light-weight architecture.\n",
    "          4. It provides supports only for the HTTP protocol.\n",
    "'''"
   ]
  },
  {
   "cell_type": "code",
   "execution_count": 6,
   "id": "f8de321f-c49a-4ae1-af4b-b713cf64f9ec",
   "metadata": {},
   "outputs": [
    {
     "data": {
      "text/plain": [
       "'Q4. Explain REST and SOAP Architecture. Mention shortcomings of SOAP.\\n\\nSOAP API -\\nSimple Object Access Protocol(SOAP) is a network protocol for exchanging structured data between nodes.\\nIt uses XML format to transfer messages. It works on top of application layer protocols like HTML and \\nSMTP for notations and transmission. SOAP allows processes to communicate throughout platforms, languages \\nand operating systems, since protocols like HTTP are already installed on all platforms.\\n\\nREST API - \\nREST technology is generally preferred to the more robust Simple Object Access Protocol (SOAP) technology \\nbecause REST uses less bandwidth, simple and flexible making it more suitable for internet usage. It’s used\\nto fetch or give some information from a web service. All communication done via REST API uses only HTTP request. \\n\\n\\nShortcomings of SOAP - \\nSOAP is typically significantly slower than other types of  middleware standards, including CORBA, because SOAP \\nuses a detailed XML format. A complete understanding of the performance limitations before building applications \\naround SOAP is hence required.\\nSOAP is usually limited to pooling and not to event notifications when HTTP is used for the transport. \\nIn addition, only one client can use the services of one server in typical situations.\\n\\n'"
      ]
     },
     "execution_count": 6,
     "metadata": {},
     "output_type": "execute_result"
    }
   ],
   "source": [
    "'''Q4. Explain REST and SOAP Architecture. Mention shortcomings of SOAP.\n",
    "\n",
    "SOAP API -\n",
    "Simple Object Access Protocol(SOAP) is a network protocol for exchanging structured data between nodes.\n",
    "It uses XML format to transfer messages. It works on top of application layer protocols like HTML and \n",
    "SMTP for notations and transmission. SOAP allows processes to communicate throughout platforms, languages \n",
    "and operating systems, since protocols like HTTP are already installed on all platforms.\n",
    "\n",
    "REST API - \n",
    "REST technology is generally preferred to the more robust Simple Object Access Protocol (SOAP) technology \n",
    "because REST uses less bandwidth, simple and flexible making it more suitable for internet usage. It’s used\n",
    "to fetch or give some information from a web service. All communication done via REST API uses only HTTP request. \n",
    "\n",
    "\n",
    "Shortcomings of SOAP - \n",
    "SOAP is typically significantly slower than other types of  middleware standards, including CORBA, because SOAP \n",
    "uses a detailed XML format. A complete understanding of the performance limitations before building applications \n",
    "around SOAP is hence required.\n",
    "SOAP is usually limited to pooling and not to event notifications when HTTP is used for the transport. \n",
    "In addition, only one client can use the services of one server in typical situations.\n",
    "\n",
    "'''"
   ]
  },
  {
   "cell_type": "code",
   "execution_count": null,
   "id": "f6f70df4-cab9-4def-9b53-4eb8ac898752",
   "metadata": {},
   "outputs": [],
   "source": [
    "'''\n",
    "Q5. Differentiate between REST and SOAP.\n",
    "\n"
   ]
  }
 ],
 "metadata": {
  "kernelspec": {
   "display_name": "Python 3 (ipykernel)",
   "language": "python",
   "name": "python3"
  },
  "language_info": {
   "codemirror_mode": {
    "name": "ipython",
    "version": 3
   },
   "file_extension": ".py",
   "mimetype": "text/x-python",
   "name": "python",
   "nbconvert_exporter": "python",
   "pygments_lexer": "ipython3",
   "version": "3.10.8"
  }
 },
 "nbformat": 4,
 "nbformat_minor": 5
}
